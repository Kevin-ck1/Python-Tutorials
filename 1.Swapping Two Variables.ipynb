{
 "cells": [
  {
   "cell_type": "code",
   "execution_count": 1,
   "metadata": {},
   "outputs": [],
   "source": [
    "#Test- Swap the values of the below variables\n",
    "\n",
    "v1 = \"First String\"\n",
    "\n",
    "v2 = \"Second String\""
   ]
  },
  {
   "cell_type": "code",
   "execution_count": 2,
   "metadata": {},
   "outputs": [
    {
     "name": "stdout",
     "output_type": "stream",
     "text": [
      "v1 is: Second String\n",
      "v2 is: First String\n"
     ]
    }
   ],
   "source": [
    "# Creating an intermediary variable, and assign it to one of the given varirables\n",
    "\n",
    "v3 = v1\n",
    "\n",
    "# Next assign v1 to v2 and then v2 to v3\n",
    "\n",
    "v1 = v2\n",
    "\n",
    "v2 = v3\n",
    "\n",
    "#Print the results\n",
    "\n",
    "print(\"v1 is:\", v1)\n",
    "print(\"v2 is:\", v2)\n",
    "\n"
   ]
  },
  {
   "cell_type": "code",
   "execution_count": null,
   "metadata": {},
   "outputs": [],
   "source": []
  }
 ],
 "metadata": {
  "kernelspec": {
   "display_name": "Python 3",
   "language": "python",
   "name": "python3"
  },
  "language_info": {
   "codemirror_mode": {
    "name": "ipython",
    "version": 3
   },
   "file_extension": ".py",
   "mimetype": "text/x-python",
   "name": "python",
   "nbconvert_exporter": "python",
   "pygments_lexer": "ipython3",
   "version": "3.8.3"
  }
 },
 "nbformat": 4,
 "nbformat_minor": 4
}
