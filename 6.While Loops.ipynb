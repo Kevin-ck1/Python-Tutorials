{
 "cells": [
  {
   "cell_type": "code",
   "execution_count": 1,
   "metadata": {},
   "outputs": [],
   "source": [
    "# Quiz, given the list below find sum of all the negative numbers\n",
    "\n",
    "given_list = [5,4,4,5,1,-2,-3,-5]"
   ]
  },
  {
   "cell_type": "code",
   "execution_count": 2,
   "metadata": {},
   "outputs": [
    {
     "name": "stdout",
     "output_type": "stream",
     "text": [
      "-10\n"
     ]
    }
   ],
   "source": [
    "#Solution 1\n",
    "\n",
    "t = 0\n",
    "i = 0\n",
    "\n",
    "while i < len(given_list):\n",
    "    if given_list[i] < 0:\n",
    "        t += given_list[i]\n",
    "    i += 1\n",
    "    \n",
    "print(t)"
   ]
  },
  {
   "cell_type": "code",
   "execution_count": 3,
   "metadata": {},
   "outputs": [
    {
     "name": "stdout",
     "output_type": "stream",
     "text": [
      "-10\n"
     ]
    }
   ],
   "source": [
    "#Solution 2\n",
    "\n",
    "# Starting from the end of the list\n",
    "\n",
    "given_list = [5,4,4,5,1,-2,-3,-5]\n",
    "\n",
    "t = 0\n",
    "i = -1 #Assuming we dont know the last digit\n",
    "\n",
    "while given_list[i] < 0:\n",
    "    t += given_list[i]\n",
    "    i -= 1\n",
    "print(t)"
   ]
  },
  {
   "cell_type": "code",
   "execution_count": 4,
   "metadata": {},
   "outputs": [
    {
     "name": "stdout",
     "output_type": "stream",
     "text": [
      "-10\n"
     ]
    }
   ],
   "source": [
    "#Solution 3\n",
    "\n",
    "# Starting from the last element again,\n",
    "#This time taking the last digit to be(len(given_list)-1)\n",
    "\n",
    "given_list = [5,4,4,5,1,-2,-3,-5]\n",
    "\n",
    "t = 0\n",
    "i = (len(given_list)-1)\n",
    "\n",
    "while given_list[i] < 0:\n",
    "    t += given_list[i]\n",
    "    i -= 1\n",
    "print(t)"
   ]
  },
  {
   "cell_type": "code",
   "execution_count": 5,
   "metadata": {},
   "outputs": [
    {
     "name": "stdout",
     "output_type": "stream",
     "text": [
      "-10\n"
     ]
    }
   ],
   "source": [
    "#Solution 4\n",
    "\n",
    "# Using for loops \n",
    "\n",
    "given_list = [5,4,4,5,1,-2,-3,-5]\n",
    "\n",
    "t = 0\n",
    "\n",
    "for i in given_list:\n",
    "    if i < 0:\n",
    "        t += i\n",
    "print(t)\n"
   ]
  }
 ],
 "metadata": {
  "kernelspec": {
   "display_name": "Python 3",
   "language": "python",
   "name": "python3"
  },
  "language_info": {
   "codemirror_mode": {
    "name": "ipython",
    "version": 3
   },
   "file_extension": ".py",
   "mimetype": "text/x-python",
   "name": "python",
   "nbconvert_exporter": "python",
   "pygments_lexer": "ipython3",
   "version": "3.8.3"
  }
 },
 "nbformat": 4,
 "nbformat_minor": 4
}
