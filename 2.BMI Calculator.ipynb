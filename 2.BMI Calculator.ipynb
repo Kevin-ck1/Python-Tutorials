{
 "cells": [
  {
   "cell_type": "code",
   "execution_count": null,
   "metadata": {},
   "outputs": [],
   "source": [
    "# Aim is to calculate a simple bmi calculator that calculates the bmi out ouputs whether a person is overweight or not\n",
    "\n",
    "# varibles required are; name, height_m, weight_kg and bmi"
   ]
  },
  {
   "cell_type": "code",
   "execution_count": 1,
   "metadata": {},
   "outputs": [
    {
     "name": "stdout",
     "output_type": "stream",
     "text": [
      "KM's BMI is: 27.5\n",
      "KM is over-weight\n"
     ]
    }
   ],
   "source": [
    "#Setting up the variables required\n",
    "\n",
    "name = \"KM\"\n",
    "height_m = 2\n",
    "weight_kg = 110\n",
    "\n",
    "#To calculate the bmi\n",
    "\n",
    "bmi = weight_kg / (height_m*height_m)    ## To indicate power of two (**2)\n",
    "\n",
    "print(name+\"'s BMI is:\", bmi)\n",
    "\n",
    "#Introducing conditional statement to indicate whether the person is overweight or not\n",
    "\n",
    "if bmi < 25:\n",
    "    print(name, \"is not over-weight\")\n",
    "else:\n",
    "    print(name, \"is over-weight\")"
   ]
  },
  {
   "cell_type": "code",
   "execution_count": null,
   "metadata": {},
   "outputs": [],
   "source": []
  }
 ],
 "metadata": {
  "kernelspec": {
   "display_name": "Python 3",
   "language": "python",
   "name": "python3"
  },
  "language_info": {
   "codemirror_mode": {
    "name": "ipython",
    "version": 3
   },
   "file_extension": ".py",
   "mimetype": "text/x-python",
   "name": "python",
   "nbconvert_exporter": "python",
   "pygments_lexer": "ipython3",
   "version": "3.8.3"
  }
 },
 "nbformat": 4,
 "nbformat_minor": 4
}
