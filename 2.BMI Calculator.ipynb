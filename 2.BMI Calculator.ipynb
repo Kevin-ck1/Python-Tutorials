{
 "cells": [
  {
   "cell_type": "code",
   "execution_count": 1,
   "metadata": {},
   "outputs": [],
   "source": [
    "# Aim is to calculate a simple bmi calculator that calculates the bmi out ouputs whether a person is overweight or not\n",
    "\n",
    "# varibles required are; name, height_m, weight_kg and bmi"
   ]
  },
  {
   "cell_type": "code",
   "execution_count": 2,
   "metadata": {},
   "outputs": [
    {
     "name": "stdout",
     "output_type": "stream",
     "text": [
      "KM's BMI is: 27.5\n",
      "KM is over-weight\n"
     ]
    }
   ],
   "source": [
    "#Setting up the variables required\n",
    "\n",
    "name = \"KM\"\n",
    "height_m = 2\n",
    "weight_kg = 110\n",
    "\n",
    "#To calculate the bmi\n",
    "\n",
    "bmi = weight_kg / (height_m*height_m)    ## To indicate power of two (**2)\n",
    "\n",
    "print(name+\"'s BMI is:\", bmi)\n",
    "\n",
    "#Introducing conditional statement to indicate whether the person is overweight or not\n",
    "\n",
    "if bmi < 25:\n",
    "    print(name, \"is not over-weight\")\n",
    "else:\n",
    "    print(name, \"is over-weight\")"
   ]
  },
  {
   "cell_type": "code",
   "execution_count": 3,
   "metadata": {},
   "outputs": [],
   "source": [
    "#Quiz 2, create a function to calculate the bmi with the data given below\n",
    "\n",
    "name1 = \"KM\"\n",
    "height_m1 = 2\n",
    "weight_kg1 = 110\n",
    "\n",
    "name2 = \"CK\"\n",
    "height_m2 = 1.6\n",
    "weight_kg2 = 60\n",
    "\n",
    "name3 = \"AKM\"\n",
    "height_m3 = 1.8\n",
    "weight_kg3 = 78\n"
   ]
  },
  {
   "cell_type": "code",
   "execution_count": 4,
   "metadata": {},
   "outputs": [],
   "source": [
    "# Earlier we calculate the bmi, in this case we have three arguments; name, height_m and weight_kg\n",
    "# to initialize the function  named bmi_calculator\n",
    "\n",
    "def bmi_calculator(name, height_m, weight_kg):\n",
    "    bmi = weight_kg / (height_m**2)\n",
    "    print(\"BMI:\",bmi)\n",
    "    if bmi < 25:\n",
    "        print(name + \" is not overweight\")\n",
    "    else:\n",
    "        print(name + \" is overweight\")"
   ]
  },
  {
   "cell_type": "code",
   "execution_count": 5,
   "metadata": {},
   "outputs": [
    {
     "name": "stdout",
     "output_type": "stream",
     "text": [
      "BMI: 27.5\n",
      "KM is overweight\n",
      "BMI: 23.437499999999996\n",
      "CK is not overweight\n",
      "BMI: 24.074074074074073\n",
      "AKM is not overweight\n"
     ]
    }
   ],
   "source": [
    "result1 = bmi_calculator(name1, height_m1, weight_kg1)\n",
    "result2 = bmi_calculator(name2, height_m2, weight_kg2)\n",
    "result3 = bmi_calculator(name3, height_m3, weight_kg3)"
   ]
  },
  {
   "cell_type": "code",
   "execution_count": 6,
   "metadata": {},
   "outputs": [],
   "source": [
    "# we can refactor the above code such that instead of print the values, it returns a value, \n",
    "\n",
    "def bmi_calculator(name, height_m, weight_kg):\n",
    "    bmi = weight_kg / (height_m**2)\n",
    "    print(\"BMI:\",bmi)\n",
    "    if bmi < 25:\n",
    "        return name + \" is not overweight\"\n",
    "    else:\n",
    "        return name + \" is overweight\""
   ]
  },
  {
   "cell_type": "code",
   "execution_count": 7,
   "metadata": {},
   "outputs": [
    {
     "name": "stdout",
     "output_type": "stream",
     "text": [
      "BMI: 27.5\n",
      "BMI: 23.437499999999996\n",
      "BMI: 24.074074074074073\n"
     ]
    }
   ],
   "source": [
    "result1 = bmi_calculator(name1, height_m1, weight_kg1)\n",
    "result2 = bmi_calculator(name2, height_m2, weight_kg2)\n",
    "result3 = bmi_calculator(name3, height_m3, weight_kg3)"
   ]
  },
  {
   "cell_type": "code",
   "execution_count": 8,
   "metadata": {},
   "outputs": [
    {
     "name": "stdout",
     "output_type": "stream",
     "text": [
      "KM is overweight\n",
      "CK is not overweight\n",
      "AKM is not overweight\n"
     ]
    }
   ],
   "source": [
    "print(result1)\n",
    "print(result2)\n",
    "print(result3)"
   ]
  }
 ],
 "metadata": {
  "kernelspec": {
   "display_name": "Python 3",
   "language": "python",
   "name": "python3"
  },
  "language_info": {
   "codemirror_mode": {
    "name": "ipython",
    "version": 3
   },
   "file_extension": ".py",
   "mimetype": "text/x-python",
   "name": "python",
   "nbconvert_exporter": "python",
   "pygments_lexer": "ipython3",
   "version": "3.8.3"
  }
 },
 "nbformat": 4,
 "nbformat_minor": 4
}
